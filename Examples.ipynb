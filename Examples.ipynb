{
 "cells": [
  {
   "cell_type": "markdown",
   "id": "developmental-christianity",
   "metadata": {},
   "source": [
    "# Examples"
   ]
  },
  {
   "cell_type": "code",
   "execution_count": 32,
   "id": "separated-emission",
   "metadata": {},
   "outputs": [],
   "source": [
    "import pandas as pd\n",
    "import matplotlib.pyplot as plt\n",
    "from sklearn.datasets import load_breast_cancer\n",
    "from sklearn.model_selection import train_test_split\n",
    "\n",
    "data = load_breast_cancer()\n",
    "features = data[\"data\"]\n",
    "labels = data[\"target\"]\n",
    "feature_names = data[\"feature_names\"]\n",
    "label_names = data[\"target_names\"]\n",
    "X_train, X_test, y_train, y_test = train_test_split(features, labels, test_size=0.33, random_state=42)"
   ]
  },
  {
   "cell_type": "markdown",
   "id": "threaded-vertex",
   "metadata": {},
   "source": [
    "## Chapter 1"
   ]
  },
  {
   "cell_type": "markdown",
   "id": "prepared-rates",
   "metadata": {},
   "source": [
    "### 1.1 Breast Cancer Wisconsin (Diagnostic) data set"
   ]
  },
  {
   "cell_type": "code",
   "execution_count": 64,
   "id": "wrapped-crazy",
   "metadata": {},
   "outputs": [],
   "source": [
    "BreastCancerFeatures = pd.DataFrame(data = features, columns = feature_names)\n",
    "BreastCancerLabels = pd.Series(data = labels).map(lambda x: {0: \"malignant\", 1: \"benign\"}[x])"
   ]
  },
  {
   "cell_type": "code",
   "execution_count": null,
   "id": "neither-primary",
   "metadata": {},
   "outputs": [],
   "source": [
    "BreastCancerFeatures.info()"
   ]
  },
  {
   "cell_type": "code",
   "execution_count": null,
   "id": "minute-merchandise",
   "metadata": {},
   "outputs": [],
   "source": [
    "BreastCancerFeatures.describe()"
   ]
  },
  {
   "cell_type": "code",
   "execution_count": 65,
   "id": "instructional-longitude",
   "metadata": {},
   "outputs": [
    {
     "data": {
      "text/plain": [
       "benign       357\n",
       "malignant    212\n",
       "dtype: int64"
      ]
     },
     "execution_count": 65,
     "metadata": {},
     "output_type": "execute_result"
    }
   ],
   "source": [
    "BreastCancerLabels.value_counts()"
   ]
  },
  
  {
   "cell_type": "markdown",
   "id": "seeing-grocery",
   "metadata": {},
   "source": [
    "### 1.2 Logistic Regression"
   ]
  },
  {
   "cell_type": "code",
   "execution_count": 26,
   "id": "bigger-vegetarian",
   "metadata": {},
   "outputs": [
    {
     "name": "stdout",
     "output_type": "stream",
     "text": [
      "Accuracy: 95.74 %\n"
     ]
    }
   ],
   "source": [
    "from sklearn.linear_model  import LogisticRegression\n",
    "\n",
    "clf = LogisticRegression(random_state = 0, max_iter = 300, n_jobs = -1).fit(X_train, y_train)\n",
    "\n",
    "print(\"Accuracy Logistic Regression: {} %\".format(round(clf.score(X_test, y_test)*100, 2)))"
   ]
  },
  {
   "cell_type": "markdown",
   "id": "assigned-bahrain",
   "metadata": {},
   "source": [
    "## Chapter 2"
   ]
  },
  {
   "cell_type": "markdown",
   "id": "genuine-walter",
   "metadata": {},
   "source": [
    "### 2.1 Decision Tree Classifier"
   ]
  },
  {
   "cell_type": "code",
   "execution_count": 27,
   "id": "exotic-stewart",
   "metadata": {},
   "outputs": [
    {
     "name": "stdout",
     "output_type": "stream",
     "text": [
      "Accuracy Decision Tree: 91.49 %\n"
     ]
    }
   ],
   "source": [
    "from sklearn import tree\n",
    "\n",
    "clf = tree.DecisionTreeClassifier(random_state = 0).fit(X_train, y_train)\n",
    "\n",
    "print(\"Accuracy Decision Tree: {} %\".format(round(clf.score(X_test, y_test)*100, 2)))"
   ]
  },
  {
   "cell_type": "markdown",
   "id": "uniform-congress",
   "metadata": {},
   "source": [
    "##### 2.1.1 Visualize Decision Tree"
   ]
  },
  {
   "cell_type": "code",
   "execution_count": null,
   "id": "supposed-regulation",
   "metadata": {},
   "outputs": [],
   "source": [
    "fig = plt.figure(figsize=(16,10), edgecolor=\"black\",dpi=500)\n",
    "tree.plot_tree(clf, feature_names=feature_names,  \n",
    "                       class_names=label_names,\n",
    "                       filled=True,\n",
    "                       max_depth=7,\n",
    "                       fontsize=5)\n",
    "plt.savefig(\"Decision Tree - Breast Cancer - Unpruned.png\")"
   ]
  },
  {
   "cell_type": "markdown",
   "id": "ongoing-theme",
   "metadata": {},
   "source": [
    "#### 2.2 Cost Complexity Pruning"
   ]
  },
  {
   "cell_type": "code",
   "execution_count": 35,
   "id": "committed-dressing",
   "metadata": {},
   "outputs": [],
   "source": [
    "path = clf.cost_complexity_pruning_path(X_train, y_train)\n",
    "ccp_alphas, impurities = path.ccp_alphas, path.impurities"
   ]
  },
  {
   "cell_type": "markdown",
   "id": "collected-charlotte",
   "metadata": {},
   "source": [
    "##### 2.2.1 Alpha vs. Impurity"
   ]
  },
  {
   "cell_type": "code",
   "execution_count": null,
   "id": "smaller-classic",
   "metadata": {},
   "outputs": [],
   "source": [
    "fig, ax = plt.subplots(dpi = 100)\n",
    "ax.plot(ccp_alphas[:-1], impurities[:-1], marker='o', drawstyle=\"steps-post\")\n",
    "ax.set_xlabel(\"effective alpha\")\n",
    "ax.set_ylabel(\"total impurity of leaves\")\n",
    "ax.set_title(\"Total Impurity vs effective alpha for training set\")\n",
    "plt.savefig(\"Alpha versus Impurity.png\")"
   ]
  },
  {
   "cell_type": "markdown",
   "id": "crude-conducting",
   "metadata": {},
   "source": [
    "##### 2.2.2 Number of Nodes vs. Alpha"
   ]
  },
  {
   "cell_type": "code",
   "execution_count": 44,
   "id": "optional-update",
   "metadata": {},
   "outputs": [],
   "source": [
    "clfs = []\n",
    "for ccp_alpha in ccp_alphas:\n",
    "    clf = tree.DecisionTreeClassifier(random_state=0, ccp_alpha=ccp_alpha)\n",
    "    clf.fit(X_train, y_train)\n",
    "    clfs.append(clf)"
   ]
  },
  {
   "cell_type": "code",
   "execution_count": null,
   "id": "becoming-newport",
   "metadata": {},
   "outputs": [],
   "source": [
    "# Last Tree only contains the root and is therefore trivial.\n",
    "clfs = clfs[:-1]\n",
    "ccp_alphas = ccp_alphas[:-1]\n",
    "\n",
    "node_counts = [clf.tree_.node_count for clf in clfs]\n",
    "fig, ax = plt.subplots(dpi = 100)\n",
    "ax.plot(ccp_alphas, node_counts, marker='o', drawstyle=\"steps-post\")\n",
    "ax.set_xlabel(\"alpha\")\n",
    "ax.set_ylabel(\"number of nodes\")\n",
    "ax.set_title(\"Number of nodes vs alpha\")\n",
    "plt.savefig(\"Number of Nodes vs Alpha.png\")"
   ]
  },
  {
   "cell_type": "markdown",
   "id": "hispanic-opera",
   "metadata": {},
   "source": [
    "##### 2.2.3 Accuracy vs alpha for training and testing sets"
   ]
  },
  {
   "cell_type": "code",
   "execution_count": null,
   "id": "premier-gather",
   "metadata": {},
   "outputs": [],
   "source": [
    "train_scores = [clf.score(X_train, y_train) for clf in clfs]\n",
    "test_scores = [clf.score(X_test, y_test) for clf in clfs]\n",
    "\n",
    "fig, ax = plt.subplots(dpi = 100)\n",
    "ax.set_xlabel(\"alpha\")\n",
    "ax.set_ylabel(\"accuracy\")\n",
    "ax.set_title(\"Accuracy vs alpha for training and testing sets\")\n",
    "ax.plot(ccp_alphas, train_scores, marker='o', label=\"train\",\n",
    "        drawstyle=\"steps-post\")\n",
    "ax.plot(ccp_alphas, test_scores, marker='o', label=\"test\",\n",
    "        drawstyle=\"steps-post\")\n",
    "ax.legend()\n",
    "plt.savefig(\"Accuracy vs Alpha - Training and Testing set.png\")"
   ]
  },
  {
   "cell_type": "markdown",
   "id": "annoying-orientation",
   "metadata": {},
   "source": [
    "#### 2.2 Random Forest"
   ]
  }
 ],
 "metadata": {
  "kernelspec": {
   "display_name": "Python 3",
   "language": "python",
   "name": "python3"
  },
  "language_info": {
   "codemirror_mode": {
    "name": "ipython",
    "version": 3
   },
   "file_extension": ".py",
   "mimetype": "text/x-python",
   "name": "python",
   "nbconvert_exporter": "python",
   "pygments_lexer": "ipython3",
   "version": "3.8.5"
  }
 },
 "nbformat": 4,
 "nbformat_minor": 5
}
